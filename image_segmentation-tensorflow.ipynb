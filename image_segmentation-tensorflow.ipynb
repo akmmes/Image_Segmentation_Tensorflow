{
 "cells": [
  {
   "cell_type": "code",
   "execution_count": null,
   "metadata": {
    "collapsed": false
   },
   "outputs": [],
   "source": [
    "import sys\n",
    "import os\n",
    "import numpy as np\n",
    "import tensorflow as tf\n",
    "from PIL import Image\n",
    "from scipy.misc import imresize\n",
    "%pylab"
   ]
  },
  {
   "cell_type": "code",
   "execution_count": null,
   "metadata": {
    "collapsed": true
   },
   "outputs": [],
   "source": [
    "trainpath = 'Add path to train data here' \n",
    "testpath = 'Add path to test data here'"
   ]
  },
  {
   "cell_type": "code",
   "execution_count": null,
   "metadata": {
    "collapsed": false
   },
   "outputs": [],
   "source": [
    "trainlabel = [i for i in os.listdir(trainpath) if 'mask' in i]\n",
    "train = [i for i in os.listdir(trainpath) if 'mask' not in i]\n",
    "test = [i for i in os.listdir(testpath)]"
   ]
  },
  {
   "cell_type": "code",
   "execution_count": null,
   "metadata": {
    "collapsed": false
   },
   "outputs": [],
   "source": [
    "def preprocess(img, mask):\n",
    "    \n",
    "    if img.shape[0] == img.shape[1] == 128:\n",
    "        return img\n",
    "    \n",
    "    z = img\n",
    "    \n",
    "    if img.shape[0] > img.shape[1]:\n",
    "        if not mask:\n",
    "            k = np.zeros((img.shape[0], img.shape[0] - img.shape[1], img.shape[2]), dtype=img.dtype)\n",
    "        else:\n",
    "            k = np.zeros((img.shape[0], img.shape[0] - img.shape[1]), dtype=img.dtype)\n",
    "        z = np.concatenate((img,k), axis=1)\n",
    "    elif img.shape[0] < img.shape[1]:\n",
    "        if not mask:\n",
    "            k = np.zeros((img.shape[1] - img.shape[0], img.shape[1], img.shape[2]), dtype=img.dtype)\n",
    "        else:\n",
    "            k = np.zeros((img.shape[1] - img.shape[0], img.shape[1]), dtype=img.dtype)\n",
    "        z = np.concatenate((img,k), axis=0)\n",
    "    \n",
    "    return imresize(z,(128,128))"
   ]
  },
  {
   "cell_type": "code",
   "execution_count": null,
   "metadata": {
    "collapsed": false
   },
   "outputs": [],
   "source": [
    "for i,fil in enumerate(train):\n",
    "    img = np.asarray(Image.open(trainpath + '/' + fil).convert('L'))\n",
    "    train[i] = preprocess(img,1)\n",
    "    \n",
    "train = np.concatenate([img_i[np.newaxis] for img_i in train], axis=0)\n",
    "    "
   ]
  },
  {
   "cell_type": "code",
   "execution_count": null,
   "metadata": {
    "collapsed": false
   },
   "outputs": [],
   "source": [
    "for i,fil in enumerate(trainlabel):\n",
    "    img = np.asarray(Image.open(trainpath + '/' + fil))\n",
    "    trainlabel[i] = preprocess(img,1)\n",
    "\n",
    "trainlabel = np.concatenate([img_i[np.newaxis] for img_i in trainlabel], axis=0)    \n",
    " "
   ]
  },
  {
   "cell_type": "code",
   "execution_count": null,
   "metadata": {
    "collapsed": false
   },
   "outputs": [],
   "source": [
    "for i,fil in enumerate(test):\n",
    "    img = np.asarray(Image.open(testpath + '/' + fil).convert('L'))\n",
    "    test[i] = preprocess(img,1)\n",
    "\n",
    "test = np.concatenate([img_i[np.newaxis] for img_i in test], axis=0)"
   ]
  },
  {
   "cell_type": "code",
   "execution_count": null,
   "metadata": {
    "collapsed": true
   },
   "outputs": [],
   "source": [
    "train = train.astype(np.float32)\n",
    "trainlabel = trainlabel.astype(np.float32)\n",
    "test = test.astype(np.float32)"
   ]
  },
  {
   "cell_type": "code",
   "execution_count": null,
   "metadata": {
    "collapsed": false
   },
   "outputs": [],
   "source": [
    "trainlabel.shape"
   ]
  },
  {
   "cell_type": "code",
   "execution_count": null,
   "metadata": {
    "collapsed": false
   },
   "outputs": [],
   "source": [
    "train = ((train-128)/256)\n",
    "test = ((test-128)/256)"
   ]
  },
  {
   "cell_type": "code",
   "execution_count": null,
   "metadata": {
    "collapsed": true
   },
   "outputs": [],
   "source": [
    "def weight_variable(shape):\n",
    "  initial = tf.truncated_normal(shape)\n",
    "  return tf.Variable(initial)"
   ]
  },
  {
   "cell_type": "code",
   "execution_count": null,
   "metadata": {
    "collapsed": true
   },
   "outputs": [],
   "source": [
    "def bias_variable(shape):\n",
    "  initial = tf.truncated_normal(shape)\n",
    "  return tf.Variable(initial)"
   ]
  },
  {
   "cell_type": "code",
   "execution_count": null,
   "metadata": {
    "collapsed": true
   },
   "outputs": [],
   "source": [
    "def conv2d(x, W):\n",
    "  return tf.nn.conv2d(x, W, strides=[1, 1, 1, 1], padding='SAME')"
   ]
  },
  {
   "cell_type": "code",
   "execution_count": null,
   "metadata": {
    "collapsed": true
   },
   "outputs": [],
   "source": [
    "def max_pool_2x2(x):\n",
    "  return tf.nn.max_pool(x, ksize=[1, 2, 2, 1], strides=[1, 2, 2, 1], padding='SAME')"
   ]
  },
  {
   "cell_type": "code",
   "execution_count": null,
   "metadata": {
    "collapsed": false
   },
   "outputs": [],
   "source": [
    "out = []\n",
    "\n",
    "batch = 10\n",
    "x = tf.placeholder(tf.float32, shape=[batch, 128,128,1])\n",
    "y_ = tf.placeholder(tf.float32, shape=[batch, 128,128,1])\n",
    "\n",
    "def convnet():\n",
    "    new_height = 128\n",
    "    new_width = 128\n",
    "    factor = 8\n",
    "    number_of_classes = 1 \n",
    "    \n",
    "    x_image = tf.reshape(x, [batch,128,128,1]) \n",
    "    \n",
    "    W_conv1 = weight_variable([5, 5, 1, 32])\n",
    "    b_conv1 = bias_variable([32])\n",
    "    h_conv1 = tf.nn.relu(conv2d(x_image, W_conv1) + b_conv1)\n",
    "    h_pool1 = max_pool_2x2(h_conv1)\n",
    "\n",
    "    W_conv2 = weight_variable([5, 5, 32, 64])\n",
    "    b_conv2 = bias_variable([64])\n",
    "    h_conv2 = tf.nn.relu(conv2d(h_pool1, W_conv2) + b_conv2)\n",
    "    h_pool2 =  max_pool_2x2(h_conv2)\n",
    "\n",
    "    W_conv3 = weight_variable([5, 5, 64, 128])\n",
    "    b_conv3 = bias_variable([128])\n",
    "    h_conv3 = tf.nn.relu(conv2d(h_pool2, W_conv3) + b_conv3)\n",
    "    h_pool3 = max_pool_2x2(h_conv3)\n",
    "    \n",
    "    W_conv4 = weight_variable([5, 5, 64, 128])\n",
    "    b_conv4 = bias_variable([64])\n",
    "    output_shape = [batch, 32, 32, 64]\n",
    "    act4 = tf.nn.conv2d_transpose(h_pool3, W_conv4, output_shape=output_shape, strides=[1,2,2,1], padding=\"SAME\")+b_conv4\n",
    "    \n",
    "    W_conv5 = weight_variable([5, 5, 32, 64])\n",
    "    b_conv5 = bias_variable([32])\n",
    "    output_shape = [batch, 64, 64, 32]\n",
    "    act5 = tf.nn.conv2d_transpose(act4, W_conv5, output_shape=output_shape, strides=[1,2,2,1], padding=\"SAME\")+b_conv5\n",
    "    \n",
    "    W_conv6 = weight_variable([5, 5, 1, 32])\n",
    "    output_shape = [batch, 128, 128, 1]\n",
    "    b_conv6 = bias_variable([1])\n",
    "    res = tf.nn.conv2d_transpose(act5, W_conv6, output_shape=output_shape, strides=[1,2,2,1], padding=\"SAME\") +b_conv6\n",
    "    return res\n",
    "\n",
    "res = convnet()\n",
    "logits = tf.nn.softmax_cross_entropy_with_logits(res, y_)\n",
    "cross_entropy = tf.reduce_sum(logits)\n",
    "train_step = tf.train.AdamOptimizer(1e-4).minimize(cross_entropy)"
   ]
  },
  {
   "cell_type": "code",
   "execution_count": null,
   "metadata": {
    "collapsed": false
   },
   "outputs": [],
   "source": [
    "with tf.Session() as sess:\n",
    "    sess.run(tf.global_variables_initializer())    \n",
    "    for i in range(10):\n",
    "        train_ = np.reshape(train[i*batch:i*batch+batch],[batch,128,128,1])\n",
    "        trainlabel_ = np.reshape(trainlabel[i*batch:i*batch+batch],[batch,128,128,1])\n",
    "        lab, out ,predictions, ce, _ = sess.run([y_, res, logits, cross_entropy,train_step],feed_dict={x: train_.astype(float), y_: trainlabel_.astype(float)})\n",
    "        print np.argmax(predictions)"
   ]
  },
  {
   "cell_type": "code",
   "execution_count": null,
   "metadata": {
    "collapsed": true
   },
   "outputs": [],
   "source": []
  }
 ],
 "metadata": {
  "anaconda-cloud": {},
  "kernelspec": {
   "display_name": "Python [conda env:tensorflow]",
   "language": "python",
   "name": "conda-env-tensorflow-py"
  },
  "language_info": {
   "codemirror_mode": {
    "name": "ipython",
    "version": 2
   },
   "file_extension": ".py",
   "mimetype": "text/x-python",
   "name": "python",
   "nbconvert_exporter": "python",
   "pygments_lexer": "ipython2",
   "version": "2.7.13"
  }
 },
 "nbformat": 4,
 "nbformat_minor": 1
}
